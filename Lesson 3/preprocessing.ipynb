{
 "cells": [
  {
   "cell_type": "markdown",
   "id": "b8de2ae3",
   "metadata": {},
   "source": [
    "# this is Data Preprocessing functions that we will export and use it on another files"
   ]
  },
  {
   "cell_type": "code",
   "execution_count": 1,
   "id": "38ebd7ba",
   "metadata": {},
   "outputs": [],
   "source": [
    "import pandas as pd\n",
    "from sklearn.preprocessing import LabelEncoder, MinMaxScaler"
   ]
  },
  {
   "cell_type": "code",
   "execution_count": 2,
   "id": "595ebe67",
   "metadata": {},
   "outputs": [],
   "source": [
    "def MissingValues(df):\n",
    "    for col in df.columns:\n",
    "        if df[col].isnull().any():\n",
    "            if df[col].dtype == 'object':\n",
    "                df[col].fillna(df[col].mode()[0], inplace=True)\n",
    "            else:\n",
    "                df[col].fillna(df[col].mean(), inplace=True)\n",
    "    return df"
   ]
  },
  {
   "cell_type": "code",
   "execution_count": 3,
   "id": "b3ff9981",
   "metadata": {},
   "outputs": [],
   "source": [
    "def Encoder(df):\n",
    "    encoder = LabelEncoder()\n",
    "    for col in df.columns:\n",
    "        if df[col].dtype == 'object':\n",
    "            df[col] = encoder.fit_transform(df[col])\n",
    "    return df"
   ]
  },
  {
   "cell_type": "code",
   "execution_count": 4,
   "id": "3a86a506",
   "metadata": {},
   "outputs": [],
   "source": [
    "def Scaler(df):\n",
    "    scaler = MinMaxScaler()\n",
    "    num_col = df.select_dtypes(include=['float64', 'int64']).columns.drop('Purchased')\n",
    "    df[num_col] = scaler.fit_transform(df[num_col])\n",
    "    return df"
   ]
  }
 ],
 "metadata": {
  "kernelspec": {
   "display_name": "Python 3",
   "language": "python",
   "name": "python3"
  },
  "language_info": {
   "codemirror_mode": {
    "name": "ipython",
    "version": 3
   },
   "file_extension": ".py",
   "mimetype": "text/x-python",
   "name": "python",
   "nbconvert_exporter": "python",
   "pygments_lexer": "ipython3",
   "version": "3.11.9"
  }
 },
 "nbformat": 4,
 "nbformat_minor": 5
}
